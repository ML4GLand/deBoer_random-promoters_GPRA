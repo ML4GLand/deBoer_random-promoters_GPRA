{
 "cells": [
  {
   "cell_type": "markdown",
   "metadata": {},
   "source": [
    "# Set-up"
   ]
  },
  {
   "cell_type": "code",
   "execution_count": 1,
   "metadata": {},
   "outputs": [],
   "source": [
    "import os\n",
    "import GEOparse"
   ]
  },
  {
   "cell_type": "code",
   "execution_count": 2,
   "metadata": {},
   "outputs": [],
   "source": [
    "# Choose the current dataset we are working with\n",
    "dataset_name = \"deAlmeida_DrosophilaS2_UMI-STARR-seq\"\n",
    "geo_id = \"GSE183936\""
   ]
  },
  {
   "cell_type": "code",
   "execution_count": 7,
   "metadata": {},
   "outputs": [
    {
     "data": {
      "text/plain": [
       "('/cellar/users/aklie/data/datasets',\n",
       " '/cellar/users/aklie/data/datasets/deAlmeida_DrosophilaS2_UMI-STARR-seq/bin/data_acquisition',\n",
       " '/cellar/users/aklie/data/datasets/deAlmeida_DrosophilaS2_UMI-STARR-seq/analysis/2023_12_11')"
      ]
     },
     "execution_count": 7,
     "metadata": {},
     "output_type": "execute_result"
    }
   ],
   "source": [
    "# Set-up directories\n",
    "base_dir = \"/cellar/users/aklie/data/datasets\"\n",
    "cwd = os.path.join(base_dir, dataset_name, \"bin\", \"data_acquisition\")\n",
    "analysis_dir = os.path.join(base_dir, dataset_name, \"analysis\", \"2023_12_11\")\n",
    "base_dir, cwd, analysis_dir"
   ]
  },
  {
   "cell_type": "code",
   "execution_count": 4,
   "metadata": {},
   "outputs": [
    {
     "name": "stderr",
     "output_type": "stream",
     "text": [
      "11-Dec-2023 13:42:01 DEBUG utils - Directory /cellar/users/aklie/data/datasets/deAlmeida_DrosophilaS2_UMI-STARR-seq/bin/data_acquisition already exists. Skipping.\n",
      "11-Dec-2023 13:42:01 INFO GEOparse - Downloading ftp://ftp.ncbi.nlm.nih.gov/geo/series/GSE183nnn/GSE183936/soft/GSE183936_family.soft.gz to /cellar/users/aklie/data/datasets/deAlmeida_DrosophilaS2_UMI-STARR-seq/bin/data_acquisition/GSE183936_family.soft.gz\n",
      "100%|██████████| 4.04k/4.04k [00:00<00:00, 12.2kB/s]\n",
      "11-Dec-2023 13:42:02 DEBUG downloader - Size validation passed\n",
      "11-Dec-2023 13:42:02 DEBUG downloader - Moving /tmp/tmpcd7vzyjb to /cellar/users/aklie/data/datasets/deAlmeida_DrosophilaS2_UMI-STARR-seq/bin/data_acquisition/GSE183936_family.soft.gz\n",
      "11-Dec-2023 13:42:02 DEBUG downloader - Successfully downloaded ftp://ftp.ncbi.nlm.nih.gov/geo/series/GSE183nnn/GSE183936/soft/GSE183936_family.soft.gz\n",
      "11-Dec-2023 13:42:02 INFO GEOparse - Parsing /cellar/users/aklie/data/datasets/deAlmeida_DrosophilaS2_UMI-STARR-seq/bin/data_acquisition/GSE183936_family.soft.gz: \n",
      "11-Dec-2023 13:42:02 DEBUG GEOparse - DATABASE: GeoMiame\n",
      "11-Dec-2023 13:42:02 DEBUG GEOparse - SERIES: GSE183936\n",
      "11-Dec-2023 13:42:02 DEBUG GEOparse - PLATFORM: GPL19604\n",
      "11-Dec-2023 13:42:02 DEBUG GEOparse - PLATFORM: GPL22106\n",
      "11-Dec-2023 13:42:02 DEBUG GEOparse - PLATFORM: GPL27609\n",
      "11-Dec-2023 13:42:02 DEBUG GEOparse - SAMPLE: GSM5574549\n",
      "11-Dec-2023 13:42:02 DEBUG GEOparse - SAMPLE: GSM5574550\n",
      "11-Dec-2023 13:42:02 DEBUG GEOparse - SAMPLE: GSM5574551\n",
      "11-Dec-2023 13:42:02 DEBUG GEOparse - SAMPLE: GSM5574552\n",
      "11-Dec-2023 13:42:02 DEBUG GEOparse - SAMPLE: GSM5574553\n",
      "11-Dec-2023 13:42:02 DEBUG GEOparse - SAMPLE: GSM5574554\n"
     ]
    }
   ],
   "source": [
    "gse = GEOparse.get_GEO(geo=geo_id, destdir=cwd)"
   ]
  },
  {
   "cell_type": "code",
   "execution_count": 5,
   "metadata": {},
   "outputs": [
    {
     "data": {
      "text/plain": [
       "{'title': ['DeepSTARR predicts enhancer activity from DNA sequence and enables the de novo design of synthetic enhancers [Drosophila genome-wide UMI-STARR-seq]'],\n",
       " 'geo_accession': ['GSE183936'],\n",
       " 'status': ['Public on Feb 24 2022'],\n",
       " 'submission_date': ['Sep 10 2021'],\n",
       " 'last_update_date': ['May 26 2022'],\n",
       " 'pubmed_id': ['35551305'],\n",
       " 'summary': ['Enhancer sequences control gene expression and comprise binding sites (motifs) for different transcription factors (TFs). Despite extensive genetic and computational studies, the relationship between DNA sequence and regulatory activity is poorly understood and enhancer de novo design is considered impossible. Here we built a deep learning model, DeepSTARR, to quantitatively predict the activities of thousands of developmental and housekeeping enhancers directly from DNA sequence in Drosophila melanogaster S2 cells. The model learned relevant TF motifs and higher-order syntax rules, including functionally non-equivalent instances of the same TF motif that are determined by motif-flanking sequence and inter-motif distances. We validated these rules experimentally and demonstrated their conservation in human by testing more than 40,000 wildtype and mutant Drosophila and human enhancers. Finally, we designed and functionally validated synthetic enhancers with desired activities de novo.'],\n",
       " 'overall_design': ['Genome-wide UMI-STARR-seq was performed in S2 cells using two core promoters each representing housekeeping and developmental transcription programs. All experiments were performed in 2 biological replicates.'],\n",
       " 'type': ['Other'],\n",
       " 'contributor': ['Bernardo,P,de Almeida',\n",
       "  'Franziska,,Reiter',\n",
       "  'Michaela,,Pagani',\n",
       "  'Alexander,,Stark'],\n",
       " 'sample_id': ['GSM5574549',\n",
       "  'GSM5574550',\n",
       "  'GSM5574551',\n",
       "  'GSM5574552',\n",
       "  'GSM5574553',\n",
       "  'GSM5574554'],\n",
       " 'contact_name': ['Bernardo,P,de Almeida'],\n",
       " 'contact_email': ['bernardo.almeida@imp.ac.at'],\n",
       " 'contact_laboratory': ['Stark Lab'],\n",
       " 'contact_institute': ['Research Institute of Molecular Pathology (IMP)'],\n",
       " 'contact_address': ['Campus-Vienna-Biocenter 1'],\n",
       " 'contact_city': ['Wien'],\n",
       " 'contact_zip/postal_code': ['1030'],\n",
       " 'contact_country': ['Austria'],\n",
       " 'supplementary_file': ['ftp://ftp.ncbi.nlm.nih.gov/geo/series/GSE183nnn/GSE183936/suppl/GSE183936_RAW.tar',\n",
       "  'ftp://ftp.ncbi.nlm.nih.gov/geo/series/GSE183nnn/GSE183936/suppl/GSE183936_S2_dev_STARRseq_merged.bw',\n",
       "  'ftp://ftp.ncbi.nlm.nih.gov/geo/series/GSE183nnn/GSE183936/suppl/GSE183936_S2_dev_STARRseq_merged.peaks.txt.gz',\n",
       "  'ftp://ftp.ncbi.nlm.nih.gov/geo/series/GSE183nnn/GSE183936/suppl/GSE183936_S2_hk_STARRseq_merged.bw',\n",
       "  'ftp://ftp.ncbi.nlm.nih.gov/geo/series/GSE183nnn/GSE183936/suppl/GSE183936_S2_hk_STARRseq_merged.peaks.txt.gz'],\n",
       " 'platform_id': ['GPL19604', 'GPL22106', 'GPL27609'],\n",
       " 'platform_taxid': ['7227', '32630'],\n",
       " 'sample_taxid': ['7227', '32630'],\n",
       " 'relation': ['SubSeries of: GSE183939',\n",
       "  'BioProject: https://www.ncbi.nlm.nih.gov/bioproject/PRJNA762363',\n",
       "  'SRA: https://www.ncbi.nlm.nih.gov/sra?term=SRP336576']}"
      ]
     },
     "execution_count": 5,
     "metadata": {},
     "output_type": "execute_result"
    }
   ],
   "source": [
    "gse.metadata"
   ]
  },
  {
   "cell_type": "code",
   "execution_count": 6,
   "metadata": {},
   "outputs": [
    {
     "data": {
      "text/plain": [
       "('ftp://ftp.ncbi.nlm.nih.gov/geo/series/GSE183nnn/GSE183936/suppl/GSE183936_RAW.tar',\n",
       " 'ftp://ftp.ncbi.nlm.nih.gov/geo/series/GSE183nnn/GSE183936/suppl/GSE183936_S2_dev_STARRseq_merged.bw',\n",
       " 'ftp://ftp.ncbi.nlm.nih.gov/geo/series/GSE183nnn/GSE183936/suppl/GSE183936_S2_dev_STARRseq_merged.peaks.txt.gz',\n",
       " 'ftp://ftp.ncbi.nlm.nih.gov/geo/series/GSE183nnn/GSE183936/suppl/GSE183936_S2_hk_STARRseq_merged.bw',\n",
       " 'ftp://ftp.ncbi.nlm.nih.gov/geo/series/GSE183nnn/GSE183936/suppl/GSE183936_S2_hk_STARRseq_merged.peaks.txt.gz')"
      ]
     },
     "execution_count": 6,
     "metadata": {},
     "output_type": "execute_result"
    }
   ],
   "source": [
    "raw = gse.metadata[\"supplementary_file\"][0]\n",
    "dev_bw = gse.metadata[\"supplementary_file\"][1]\n",
    "dev_peaks = gse.metadata[\"supplementary_file\"][2]\n",
    "hk_bw = gse.metadata[\"supplementary_file\"][3]\n",
    "hk_peaks = gse.metadata[\"supplementary_file\"][4]\n",
    "raw, dev_bw, dev_peaks, hk_bw, hk_peaks"
   ]
  },
  {
   "cell_type": "code",
   "execution_count": 8,
   "metadata": {},
   "outputs": [
    {
     "name": "stdout",
     "output_type": "stream",
     "text": [
      "--2023-12-11 13:43:39--  ftp://ftp.ncbi.nlm.nih.gov/geo/series/GSE183nnn/GSE183936/suppl/GSE183936_RAW.tar\n",
      "           => ‘/cellar/users/aklie/data/datasets/deAlmeida_DrosophilaS2_UMI-STARR-seq/analysis/2023_12_11/GSE183936_RAW.tar’\n",
      "Resolving ftp.ncbi.nlm.nih.gov (ftp.ncbi.nlm.nih.gov)... 130.14.250.12, 130.14.250.11, 2607:f220:41e:250::12, ...\n",
      "Connecting to ftp.ncbi.nlm.nih.gov (ftp.ncbi.nlm.nih.gov)|130.14.250.12|:21... connected.\n",
      "Logging in as anonymous ... Logged in!\n",
      "==> SYST ... done.    ==> PWD ... done.\n",
      "==> TYPE I ... done.  ==> CWD (1) /geo/series/GSE183nnn/GSE183936/suppl ... done.\n",
      "==> SIZE GSE183936_RAW.tar ... 582328320\n",
      "==> PASV ... done.    ==> RETR GSE183936_RAW.tar ... done.\n",
      "Length: 582328320 (555M) (unauthoritative)\n",
      "\n",
      "GSE183936_RAW.tar   100%[===================>] 555.35M  46.7MB/s    in 13s     \n",
      "\n",
      "2023-12-11 13:43:53 (44.0 MB/s) - ‘/cellar/users/aklie/data/datasets/deAlmeida_DrosophilaS2_UMI-STARR-seq/analysis/2023_12_11/GSE183936_RAW.tar’ saved [582328320]\n",
      "\n",
      "--2023-12-11 13:43:53--  ftp://ftp.ncbi.nlm.nih.gov/geo/series/GSE183nnn/GSE183936/suppl/GSE183936_S2_dev_STARRseq_merged.bw\n",
      "           => ‘/cellar/users/aklie/data/datasets/deAlmeida_DrosophilaS2_UMI-STARR-seq/analysis/2023_12_11/GSE183936_S2_dev_STARRseq_merged.bw’\n",
      "Resolving ftp.ncbi.nlm.nih.gov (ftp.ncbi.nlm.nih.gov)... 130.14.250.11, 130.14.250.12, 2607:f220:41e:250::12, ...\n",
      "Connecting to ftp.ncbi.nlm.nih.gov (ftp.ncbi.nlm.nih.gov)|130.14.250.11|:21... connected.\n",
      "Logging in as anonymous ... Logged in!\n",
      "==> SYST ... done.    ==> PWD ... done.\n",
      "==> TYPE I ... done.  ==> CWD (1) /geo/series/GSE183nnn/GSE183936/suppl ... done.\n",
      "==> SIZE GSE183936_S2_dev_STARRseq_merged.bw ... 54366490\n",
      "==> PASV ... done.    ==> RETR GSE183936_S2_dev_STARRseq_merged.bw ... done.\n",
      "Length: 54366490 (52M) (unauthoritative)\n",
      "\n",
      "GSE183936_S2_dev_ST 100%[===================>]  51.85M  27.0MB/s    in 1.9s    \n",
      "\n",
      "2023-12-11 13:43:56 (27.0 MB/s) - ‘/cellar/users/aklie/data/datasets/deAlmeida_DrosophilaS2_UMI-STARR-seq/analysis/2023_12_11/GSE183936_S2_dev_STARRseq_merged.bw’ saved [54366490]\n",
      "\n",
      "--2023-12-11 13:43:57--  ftp://ftp.ncbi.nlm.nih.gov/geo/series/GSE183nnn/GSE183936/suppl/GSE183936_S2_dev_STARRseq_merged.peaks.txt.gz\n",
      "           => ‘/cellar/users/aklie/data/datasets/deAlmeida_DrosophilaS2_UMI-STARR-seq/analysis/2023_12_11/GSE183936_S2_dev_STARRseq_merged.peaks.txt.gz’\n",
      "Resolving ftp.ncbi.nlm.nih.gov (ftp.ncbi.nlm.nih.gov)... 130.14.250.11, 130.14.250.12, 2607:f220:41e:250::12, ...\n",
      "Connecting to ftp.ncbi.nlm.nih.gov (ftp.ncbi.nlm.nih.gov)|130.14.250.11|:21... connected.\n",
      "Logging in as anonymous ... Logged in!\n",
      "==> SYST ... done.    ==> PWD ... done.\n",
      "==> TYPE I ... done.  ==> CWD (1) /geo/series/GSE183nnn/GSE183936/suppl ... done.\n",
      "==> SIZE GSE183936_S2_dev_STARRseq_merged.peaks.txt.gz ... 182966\n",
      "==> PASV ... done.    ==> RETR GSE183936_S2_dev_STARRseq_merged.peaks.txt.gz ... done.\n",
      "Length: 182966 (179K) (unauthoritative)\n",
      "\n",
      "GSE183936_S2_dev_ST 100%[===================>] 178.68K   832KB/s    in 0.2s    \n",
      "\n",
      "2023-12-11 13:43:58 (832 KB/s) - ‘/cellar/users/aklie/data/datasets/deAlmeida_DrosophilaS2_UMI-STARR-seq/analysis/2023_12_11/GSE183936_S2_dev_STARRseq_merged.peaks.txt.gz’ saved [182966]\n",
      "\n",
      "--2023-12-11 13:43:59--  ftp://ftp.ncbi.nlm.nih.gov/geo/series/GSE183nnn/GSE183936/suppl/GSE183936_S2_hk_STARRseq_merged.bw\n",
      "           => ‘/cellar/users/aklie/data/datasets/deAlmeida_DrosophilaS2_UMI-STARR-seq/analysis/2023_12_11/GSE183936_S2_hk_STARRseq_merged.bw’\n",
      "Resolving ftp.ncbi.nlm.nih.gov (ftp.ncbi.nlm.nih.gov)... 130.14.250.11, 130.14.250.12, 2607:f220:41e:250::12, ...\n",
      "Connecting to ftp.ncbi.nlm.nih.gov (ftp.ncbi.nlm.nih.gov)|130.14.250.11|:21... connected.\n",
      "Logging in as anonymous ... Logged in!\n",
      "==> SYST ... done.    ==> PWD ... done.\n",
      "==> TYPE I ... done.  ==> CWD (1) /geo/series/GSE183nnn/GSE183936/suppl ... done.\n",
      "==> SIZE GSE183936_S2_hk_STARRseq_merged.bw ... 53134644\n",
      "==> PASV ... done.    ==> RETR GSE183936_S2_hk_STARRseq_merged.bw ... done.\n",
      "Length: 53134644 (51M) (unauthoritative)\n",
      "\n",
      "GSE183936_S2_hk_STA 100%[===================>]  50.67M  31.0MB/s    in 1.6s    \n",
      "\n",
      "2023-12-11 13:44:02 (31.0 MB/s) - ‘/cellar/users/aklie/data/datasets/deAlmeida_DrosophilaS2_UMI-STARR-seq/analysis/2023_12_11/GSE183936_S2_hk_STARRseq_merged.bw’ saved [53134644]\n",
      "\n",
      "--2023-12-11 13:44:02--  ftp://ftp.ncbi.nlm.nih.gov/geo/series/GSE183nnn/GSE183936/suppl/GSE183936_S2_hk_STARRseq_merged.peaks.txt.gz\n",
      "           => ‘/cellar/users/aklie/data/datasets/deAlmeida_DrosophilaS2_UMI-STARR-seq/analysis/2023_12_11/GSE183936_S2_hk_STARRseq_merged.peaks.txt.gz’\n",
      "Resolving ftp.ncbi.nlm.nih.gov (ftp.ncbi.nlm.nih.gov)... 130.14.250.12, 130.14.250.11, 2607:f220:41e:250::11, ...\n",
      "Connecting to ftp.ncbi.nlm.nih.gov (ftp.ncbi.nlm.nih.gov)|130.14.250.12|:21... connected.\n",
      "Logging in as anonymous ... Logged in!\n",
      "==> SYST ... done.    ==> PWD ... done.\n",
      "==> TYPE I ... done.  ==> CWD (1) /geo/series/GSE183nnn/GSE183936/suppl ... done.\n",
      "==> SIZE GSE183936_S2_hk_STARRseq_merged.peaks.txt.gz ... 146753\n",
      "==> PASV ... done.    ==> RETR GSE183936_S2_hk_STARRseq_merged.peaks.txt.gz ... done.\n",
      "Length: 146753 (143K) (unauthoritative)\n",
      "\n",
      "GSE183936_S2_hk_STA 100%[===================>] 143.31K   661KB/s    in 0.2s    \n",
      "\n",
      "2023-12-11 13:44:04 (661 KB/s) - ‘/cellar/users/aklie/data/datasets/deAlmeida_DrosophilaS2_UMI-STARR-seq/analysis/2023_12_11/GSE183936_S2_hk_STARRseq_merged.peaks.txt.gz’ saved [146753]\n",
      "\n"
     ]
    }
   ],
   "source": [
    "# wget the files to the correct directories\n",
    "!wget -P  {analysis_dir} {raw}\n",
    "!wget -P  {analysis_dir} {dev_bw}\n",
    "!wget -P  {analysis_dir} {dev_peaks}\n",
    "!wget -P  {analysis_dir} {hk_bw}\n",
    "!wget -P  {analysis_dir} {hk_peaks}"
   ]
  },
  {
   "cell_type": "markdown",
   "metadata": {},
   "source": [
    "# DONE!"
   ]
  },
  {
   "cell_type": "markdown",
   "metadata": {},
   "source": [
    "---"
   ]
  }
 ],
 "metadata": {
  "kernelspec": {
   "display_name": "Python 3.7 get_data",
   "language": "python",
   "name": "get_data"
  },
  "language_info": {
   "codemirror_mode": {
    "name": "ipython",
    "version": 3
   },
   "file_extension": ".py",
   "mimetype": "text/x-python",
   "name": "python",
   "nbconvert_exporter": "python",
   "pygments_lexer": "ipython3",
   "version": "3.7.12"
  }
 },
 "nbformat": 4,
 "nbformat_minor": 4
}
