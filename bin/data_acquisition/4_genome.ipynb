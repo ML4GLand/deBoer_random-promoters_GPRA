{
 "cells": [
  {
   "attachments": {},
   "cell_type": "markdown",
   "metadata": {},
   "source": [
    "# Start by getting the genome"
   ]
  },
  {
   "attachments": {},
   "cell_type": "markdown",
   "metadata": {},
   "source": [
    "```bash\n",
    "mkdir -p /cellar/users/aklie/data/ref/genomes/dm3\n",
    "cd /cellar/users/aklie/data/ref/genomes/dm3\n",
    "wget https://hgdownload.soe.ucsc.edu/goldenPath/dm3/bigZips/dm3.fa.gz\n",
    "gunzip dm3.fa.gz\n",
    "wget https://hgdownload.soe.ucsc.edu/goldenPath/dm3/bigZips/dm3.chrom.sizes"
   ]
  },
  {
   "attachments": {},
   "cell_type": "markdown",
   "metadata": {},
   "source": [
    "# Get ready for predictions"
   ]
  },
  {
   "attachments": {},
   "cell_type": "markdown",
   "metadata": {},
   "source": [
    "```bash\n",
    "bedtools makewindows -g dm3.chrom.sizes -w 249 -s 20 > /cellar/users/aklie/data/datasets/deAlmeida_DrosophilaS2_UMI-STARR-seq/analysis/2023_12_11/eugene/deepstarr_windows.bed\n",
    "bedtools getfasta -fi dm3.fa -bed /cellar/users/aklie/data/datasets/deAlmeida_DrosophilaS2_UMI-STARR-seq/analysis/2023_12_11/eugene/deepstarr_windows.bed -fo /cellar/users/aklie/data/datasets/deAlmeida_DrosophilaS2_UMI-STARR-seq/analysis/2023_12_11/eugene/deepstarr_windows.fa\n",
    "```"
   ]
  },
  {
   "attachments": {},
   "cell_type": "markdown",
   "metadata": {},
   "source": [
    "# Create SeqData"
   ]
  },
  {
   "cell_type": "code",
   "execution_count": null,
   "metadata": {},
   "outputs": [],
   "source": [
    "import seqdata as sd\n",
    "sdata = sd.read_flat_fasta(\n",
    "    name=\"seq\",\n",
    "    out=\"/cellar/users/aklie/data/datasets/deAlmeida_DrosophilaS2_UMI-STARR-seq/analysis/2023_12_11/eugene/deepstarr_windows.zarr\",\n",
    "    fasta=\"/cellar/users/aklie/data/datasets/deAlmeida_DrosophilaS2_UMI-STARR-seq/analysis/2023_12_11/eugene/deepstarr_windows.fa\",\n",
    "    batch_size=1000,\n",
    "    fixed_length=False,\n",
    "    overwrite=True,\n",
    ")"
   ]
  },
  {
   "attachments": {},
   "cell_type": "markdown",
   "metadata": {},
   "source": [
    "# DONE!"
   ]
  },
  {
   "attachments": {},
   "cell_type": "markdown",
   "metadata": {},
   "source": [
    "---"
   ]
  }
 ],
 "metadata": {
  "language_info": {
   "name": "python"
  }
 },
 "nbformat": 4,
 "nbformat_minor": 2
}
