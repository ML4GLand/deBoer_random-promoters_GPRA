{
 "cells": [
  {
   "attachments": {},
   "cell_type": "markdown",
   "metadata": {},
   "source": [
    "https://zenodo.org/records/5502060"
   ]
  },
  {
   "attachments": {},
   "cell_type": "markdown",
   "metadata": {},
   "source": [
    "```bash\n",
    "wget -O /cellar/users/aklie/data/datasets/deAlmeida_DrosophilaS2_UMI-STARR-seq/analysis/2023_11_26/zenodo/files https://zenodo.org/api/records/5502060/files-archive\n",
    "```"
   ]
  },
  {
   "cell_type": "code",
   "execution_count": null,
   "metadata": {
    "vscode": {
     "languageId": "plaintext"
    }
   },
   "outputs": [],
   "source": [
    "wget -O /cellar/users/aklie/data/datasets/deAlmeida_DrosophilaS2_UMI-STARR-seq/analysis/2023_11_26/zenodo/DeepSTARR.model.h5 https://zenodo.org/records/5502060/files/DeepSTARR.model.h5"
   ]
  },
  {
   "cell_type": "code",
   "execution_count": null,
   "metadata": {
    "vscode": {
     "languageId": "plaintext"
    }
   },
   "outputs": [],
   "source": [
    "wget -O /cellar/users/aklie/data/datasets/deAlmeida_DrosophilaS2_UMI-STARR-seq/analysis/2023_11_26/zenodo/DeepSTARR.model.json https://zenodo.org/records/5502060/files/DeepSTARR.model.json"
   ]
  },
  {
   "cell_type": "code",
   "execution_count": null,
   "metadata": {
    "vscode": {
     "languageId": "plaintext"
    }
   },
   "outputs": [],
   "source": [
    "etc"
   ]
  }
 ],
 "metadata": {
  "language_info": {
   "name": "python"
  }
 },
 "nbformat": 4,
 "nbformat_minor": 2
}
